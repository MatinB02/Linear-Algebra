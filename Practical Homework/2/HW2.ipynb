{
  "cells": [
    {
      "cell_type": "markdown",
      "metadata": {
        "id": "EchfzTjQSNK8"
      },
      "source": [
        "\n",
        "<br>\n",
        "<font>\n",
        "<!-- <img src=\"https://cdn.freebiesupply.com/logos/large/2x/sharif-logo-png-transparent.png\" alt=\"SUT logo\" width=300 height=300 align=left class=\"saturate\"> -->\n",
        "<div dir=ltr align=center>\n",
        "<img src=\"https://cdn.freebiesupply.com/logos/large/2x/sharif-logo-png-transparent.png\" width=200 height=200>\n",
        "<br>\n",
        "<font color=0F5298 size=7>\n",
        "Linear Algebra <br>\n",
        "<font color=2565AE size=5>\n",
        "Computer Engineering Department <br>\n",
        "Spring 2025<br>\n",
        "<font color=3C99D size=5>\n",
        "Practical Assignment 2 <br>\n",
        "<font color=696880 size=4>\n",
        "<!-- <br> -->\n",
        "\n",
        "____"
      ]
    },
    {
      "cell_type": "code",
      "execution_count": 2,
      "metadata": {},
      "outputs": [],
      "source": [
        "first_name = 'Matin'\n",
        "last_name = 'Bagheri'\n",
        "student_number = '402105727'"
      ]
    },
    {
      "cell_type": "markdown",
      "metadata": {
        "id": "XRef3ClvyP5k"
      },
      "source": [
        "# LU Decomposition"
      ]
    },
    {
      "cell_type": "markdown",
      "metadata": {
        "id": "idibXIf4yUT7"
      },
      "source": [
        "## LU Decomposition and System Solving\n",
        "\n",
        "You are given a function `solve_system_via_lu(A, b)` that solves the linear system `(Ax = b)`\n",
        "by performing:\n",
        "\n",
        "1. **LU Decomposition**  \n",
        "   Factor `A` into a lower-triangular matrix `L` and an upper-triangular matrix `U`.\n",
        "\n",
        "2. **Forward Substitution**  \n",
        "   Solve `(Ly = b)`.\n",
        "\n",
        "3. **Backward Substitution**  \n",
        "   Solve `(Ux = y)`.\n"
      ]
    },
    {
      "cell_type": "code",
      "execution_count": 1,
      "metadata": {
        "id": "IQ2-wpS_yTre"
      },
      "outputs": [],
      "source": [
        "import numpy as np\n",
        "import matplotlib.pyplot as plt\n",
        "\n",
        "def lu_decomposition(A):\n",
        "    \"\"\"\n",
        "    Perform LU decomposition of matrix A (without pivoting).\n",
        "    Returns L and U such that A = L*U.\n",
        "    L will have 1s on the diagonal.\n",
        "    \"\"\"\n",
        "    n = A.shape[0]\n",
        "    L = np.identity(n)\n",
        "    U = np.zeros_like(A, dtype=float)\n",
        "\n",
        "    for row in range(n):\n",
        "        for col in range(row, n):\n",
        "            total = 0.0\n",
        "            for k in range(row):\n",
        "                total += L[row, k] * U[k, col]\n",
        "            U[row, col] = A[row, col] - total\n",
        "\n",
        "        for col in range(row + 1, n):\n",
        "            total = 0.0\n",
        "            for k in range(row):\n",
        "                total += L[col, k] * U[k, row]\n",
        "            if U[row, row] == 0:\n",
        "                raise ValueError(\"Zero pivot encountered; LU without pivoting is unstable.\")\n",
        "            L[col, row] = (A[col, row] - total) / U[row, row]\n",
        "\n",
        "    return L, U\n",
        "\n",
        "def forward_substitution(L, b):\n",
        "    \"\"\"\n",
        "    Solve L*y = b for y.\n",
        "    \"\"\"\n",
        "    n = len(b)\n",
        "    y = np.zeros_like(b, dtype=float)\n",
        "\n",
        "    for i in range(n):\n",
        "        accum = 0.0\n",
        "        for j in range(i):\n",
        "            accum += L[i, j] * y[j]\n",
        "        y[i] = b[i] - accum\n",
        "\n",
        "    return y\n",
        "\n",
        "def backward_substitution(U, y):\n",
        "    \"\"\"\n",
        "    Solve U*x = y for x.\n",
        "    \"\"\"\n",
        "    n = len(y)\n",
        "    x = np.zeros_like(y, dtype=float)\n",
        "\n",
        "    for i in reversed(range(n)):\n",
        "        accum = 0.0\n",
        "        for j in range(i + 1, n):\n",
        "            accum += U[i, j] * x[j]\n",
        "        if U[i, i] == 0:\n",
        "            raise ValueError(\"Zero diagonal element in U; cannot solve.\")\n",
        "        x[i] = (y[i] - accum) / U[i, i]\n",
        "\n",
        "    return x\n",
        "\n",
        "def solve_system_via_lu(A, b):\n",
        "    L, U = lu_decomposition(A)\n",
        "    y = forward_substitution(L, b)\n",
        "    x = backward_substitution(U, y)\n",
        "\n",
        "    return x, L, U\n",
        "\n",
        "def visualize_matrix(matrix, title, ax):\n",
        "    cax = ax.matshow(matrix, cmap='coolwarm')\n",
        "    plt.colorbar(cax, ax=ax)\n",
        "    ax.set_title(title, pad=15)\n",
        "\n",
        "    for (i, j), val in np.ndenumerate(matrix):\n",
        "        ax.text(j, i, f\"{val:.2f}\", ha='center', va='center', color='black')\n",
        "\n",
        "def show_result(A, b, x, L, U):\n",
        "    fig, axes = plt.subplots(1, 2, figsize=(12, 4))\n",
        "\n",
        "    visualize_matrix(L, \"Lower Matrix L\", axes[0])\n",
        "    visualize_matrix(U, \"Upper Matrix U\", axes[1])\n",
        "    plt.tight_layout()\n",
        "    plt.show()\n",
        "\n",
        "    print(\"\\nSolution x (rounded):\")\n",
        "    print(np.round(x, 2))\n",
        "\n",
        "    Ax = A @ x\n",
        "    print(\"\\nCheck A * x (should be close to b):\")\n",
        "    print(Ax)\n",
        "\n",
        "    print(\"\\nVector b:\")\n",
        "    print(b)\n",
        "    return"
      ]
    },
    {
      "cell_type": "code",
      "execution_count": 3,
      "metadata": {
        "id": "F8AypNy-z6sp"
      },
      "outputs": [
        {
          "data": {
            "image/png": "[encoded data removed]",
            "text/plain": [
              "<Figure size 1200x400 with 4 Axes>"
            ]
          },
          "metadata": {},
          "output_type": "display_data"
        },
        {
          "name": "stdout",
          "output_type": "stream",
          "text": [
            "\n",
            "Solution x (rounded):\n",
            "[0.5  0.33 0.33]\n",
            "\n",
            "Check A * x (should be close to b):\n",
            "[1. 2. 3.]\n",
            "\n",
            "Vector b:\n",
            "[1. 2. 3.]\n"
          ]
        }
      ],
      "source": [
        "## Example 1: 3x3\n",
        "\n",
        "A_3x3 = np.array([\n",
        "    [2, -1,  1],\n",
        "    [4,  1, -1],\n",
        "    [-2, 5, 7]\n",
        "], dtype=float)\n",
        "\n",
        "b_3x3 = np.array([1, 2, 3], dtype=float)\n",
        "\n",
        "x_3x3, L_3x3, U_3x3 = solve_system_via_lu(A_3x3, b_3x3)  # Fixed function call\n",
        "\n",
        "show_result(A_3x3, b_3x3, x_3x3, L_3x3, U_3x3)"
      ]
    },
    {
      "cell_type": "code",
      "execution_count": 4,
      "metadata": {
        "id": "xuVtAhSZ0MOl"
      },
      "outputs": [
        {
          "data": {
            "image/png": "[encoded data removed]",
            "text/plain": [
              "<Figure size 1200x400 with 4 Axes>"
            ]
          },
          "metadata": {},
          "output_type": "display_data"
        },
        {
          "name": "stdout",
          "output_type": "stream",
          "text": [
            "\n",
            "Solution x (rounded):\n",
            "[ 3.11 -6.33  1.33  5.11]\n",
            "\n",
            "Check A * x (should be close to b):\n",
            "[ 2. 13.  2. 28.]\n",
            "\n",
            "Vector b:\n",
            "[ 2. 13.  2. 28.]\n"
          ]
        }
      ],
      "source": [
        "## Example 2: 4x4\n",
        "\n",
        "A_4x4 = np.array([\n",
        "    [1,  2,  1,  2],\n",
        "    [2,  5,  2,  7],\n",
        "    [1,  0,  3, -1],\n",
        "    [3, 10,  4, 15]\n",
        "], dtype=float)\n",
        "\n",
        "b_4x4 = np.array([2, 13, 2, 28], dtype=float)\n",
        "\n",
        "x_4x4, L_4x4, U_4x4 = solve_system_via_lu(A_4x4, b_4x4)\n",
        "\n",
        "show_result(A_4x4, b_4x4, x_4x4, L_4x4, U_4x4)"
      ]
    },
    {
      "cell_type": "code",
      "execution_count": 5,
      "metadata": {
        "id": "lbtUQbkK0Mia"
      },
      "outputs": [
        {
          "data": {
            "image/png": "[encoded data removed]",
            "text/plain": [
              "<Figure size 1200x400 with 4 Axes>"
            ]
          },
          "metadata": {},
          "output_type": "display_data"
        },
        {
          "name": "stdout",
          "output_type": "stream",
          "text": [
            "\n",
            "Solution x (rounded):\n",
            "[ 2.07 -1.77 -2.25  2.05  2.97]\n",
            "\n",
            "Check A * x (should be close to b):\n",
            "[ 7.  9.  5. 17. 14.]\n",
            "\n",
            "Vector b:\n",
            "[ 7.  9.  5. 17. 14.]\n"
          ]
        }
      ],
      "source": [
        "## Example 3: 5x5\n",
        "\n",
        "A_5x5 = np.array([\n",
        "    [2,  1,  2,  3,  1],\n",
        "    [4,  4,  1,  2,  2],\n",
        "    [1,  2,  2,  1,  3],\n",
        "    [3,  0,  2,  6,  1],\n",
        "    [5,  2,  3,  1,  4]\n",
        "], dtype=float)\n",
        "\n",
        "b_5x5 = np.array([7, 9, 5, 17, 14], dtype=float)\n",
        "\n",
        "x_5x5, L_5x5, U_5x5 = solve_system_via_lu(A_5x5, b_5x5)\n",
        "\n",
        "show_result(A_5x5, b_5x5, x_5x5, L_5x5, U_5x5)"
      ]
    },
    {
      "cell_type": "markdown",
      "metadata": {
        "id": "UC5Cw9Hm7i01"
      },
      "source": [
        "# Matrix Inversion via Gauss-Jordan Elimination"
      ]
    },
    {
      "cell_type": "markdown",
      "metadata": {
        "id": "Pyl_PfsCdmDw"
      },
      "source": [
        "## Matrix Inversion via RREF\n",
        "Implement a function that computes the inverse of a matrix by applying the Gauss-Jordan elimination (RREF) method to an augmented matrix\n",
        "[\n",
        "𝐴\n",
        "∣\n",
        "𝐼\n",
        "]\n",
        ". Once you've written and tested this function, demonstrate its correctness by running the examples."
      ]
    },
    {
      "cell_type": "code",
      "execution_count": 6,
      "metadata": {
        "id": "Mod-oEu73aYk"
      },
      "outputs": [],
      "source": [
        "import numpy as np\n",
        "\n",
        "def matrix_inverse_via_rref(A):\n",
        "    \"\"\"\n",
        "    Compute the inverse of a matrix A by forming an augmented matrix [A | I]\n",
        "    and performing Gauss-Jordan elimination to convert A into the identity.\n",
        "    The right side will then become the inverse of A.\n",
        "\n",
        "    Parameters\n",
        "    ----------\n",
        "    A : numpy.ndarray\n",
        "        The square matrix to be inverted (size n x n).\n",
        "\n",
        "    Returns\n",
        "    -------\n",
        "    numpy.ndarray\n",
        "        The inverse of A if it exists.\n",
        "\n",
        "    Raises\n",
        "    ------\n",
        "    ValueError\n",
        "        If A is not invertible.\n",
        "    \"\"\"\n",
        "\n",
        "    # Convert A to float (if it's not already) to avoid integer division issues\n",
        "    # Create an augmented matrix [A | I]\n",
        "    # Perform Gauss-Jordan elimination\n",
        "        # 1) Find the pivot in column i (partial pivoting)\n",
        "        # If the pivot is effectively zero, raise error (matrix is singular)\n",
        "        # 2) Swap the pivot row into position\n",
        "        # 3) Normalize pivot row so pivot element is 1\n",
        "        # 4) Eliminate all other entries in column i\n",
        "    # The right side is now the inverse of A\n",
        "\n",
        "\n",
        "    A = np.array(A, dtype=float)\n",
        "    n = A.shape[0]\n",
        "\n",
        "    if A.shape[0] != A.shape[1]:\n",
        "        raise ValueError(\"Matrix must be square.\")\n",
        "\n",
        "    # Augment A with the identity matrix\n",
        "    aug = np.concatenate((A, np.eye(n)), axis=1)\n",
        "\n",
        "    for i in range(n):\n",
        "        # Partial pivoting\n",
        "        pivot_row = max(range(i, n), key=lambda r: abs(aug[r, i]))\n",
        "        if abs(aug[pivot_row, i]) < 1e-12:\n",
        "            raise ValueError(\"Matrix is singular and not invertible.\")\n",
        "        if pivot_row != i:\n",
        "            aug[[i, pivot_row]] = aug[[pivot_row, i]]\n",
        "\n",
        "        # Normalize pivot row\n",
        "        aug[i] = aug[i] / aug[i, i]\n",
        "\n",
        "        # Eliminate all other entries in the pivot column\n",
        "        for j in range(n):\n",
        "            if j != i:\n",
        "                aug[j] -= aug[j, i] * aug[i]\n",
        "\n",
        "    return aug[:, n:]"
      ]
    },
    {
      "cell_type": "code",
      "execution_count": 7,
      "metadata": {
        "id": "vXkcVi83dY5F"
      },
      "outputs": [
        {
          "name": "stdout",
          "output_type": "stream",
          "text": [
            "1)Inverse:\n",
            " [[-0.86  1.17 -0.56  0.6 ]\n",
            " [ 0.2  -0.2   0.2  -0.2 ]\n",
            " [ 0.09 -0.24  0.13  0.  ]\n",
            " [ 0.13 -0.04 -0.02  0.  ]]\n",
            "Check A * A^-1 (should be close to identity):\n",
            " [[ 1.  0.  0.  0.]\n",
            " [-0.  1.  0.  0.]\n",
            " [-0.  0.  1.  0.]\n",
            " [-0.  0. -0.  1.]]\n",
            "\n",
            "-----------------------------------------------------\n",
            "\n",
            "2)Inverse:\n",
            " [[-0.1  -0.39  0.37  0.95 -0.02]\n",
            " [ 0.27  0.07 -0.76 -0.37  0.32]\n",
            " [-0.22  0.12  1.07  1.39 -0.8 ]\n",
            " [ 0.02  0.1  -1.34 -0.49  0.76]\n",
            " [ 0.02  0.1   0.66 -0.49 -0.24]]\n",
            "Check A * A^-1 (should be close to identity):\n",
            " [[ 1. -0. -0. -0. -0.]\n",
            " [ 0.  1. -0. -0. -0.]\n",
            " [ 0.  0.  1. -0.  0.]\n",
            " [ 0. -0. -0.  1. -0.]\n",
            " [ 0.  0. -0. -0.  1.]]\n",
            "\n",
            "-----------------------------------------------------\n",
            "\n",
            "Error: Matrix is singular and not invertible.\n",
            "\n",
            "-----------------------------------------------------\n"
          ]
        }
      ],
      "source": [
        "mat_4x4 = np.array([\n",
        "    [1,  3,  1,  9],\n",
        "    [2,  6,  0,  4],\n",
        "    [3,  9,  7,  1],\n",
        "    [2,  1,  8,  6]\n",
        "], dtype=float)\n",
        "\n",
        "\n",
        "try:\n",
        "    inv_4x4 = matrix_inverse_via_rref(mat_4x4)\n",
        "    print(\"1)Inverse:\\n\", np.round(inv_4x4, 2))\n",
        "    product_4x4 = np.dot(mat_4x4, inv_4x4)\n",
        "    print(\"Check A * A^-1 (should be close to identity):\\n\", np.round(product_4x4, 2))\n",
        "except ValueError as e:\n",
        "    print(\"Error:\", e)\n",
        "print(\"\\n-----------------------------------------------------\\n\")\n",
        "\n",
        "\n",
        "mat_5x5 = np.array([\n",
        "    [2,  5,  1,  0,  3],\n",
        "    [1,  2,  3,  4,  5],\n",
        "    [2,  1,  1,  2,  4],\n",
        "    [1,  1,  1,  1,  1],\n",
        "    [4,  2,  2,  5,  7]\n",
        "], dtype=float)\n",
        "\n",
        "\n",
        "try:\n",
        "    inv_5x5 = matrix_inverse_via_rref(mat_5x5)\n",
        "    print(\"2)Inverse:\\n\", np.round(inv_5x5, 2))\n",
        "    product_5x5 = np.dot(mat_5x5, inv_5x5)\n",
        "    print(\"Check A * A^-1 (should be close to identity):\\n\", np.round(product_5x5, 2))\n",
        "except ValueError as e:\n",
        "    print(\"Error:\", e)\n",
        "print(\"\\n-----------------------------------------------------\\n\")\n",
        "\n",
        "\n",
        "mat_4x4 = np.array([\n",
        "    [1,  1,   2,   3],\n",
        "    [6,  7,  11,  15],\n",
        "    [2,  3,   4,   5],\n",
        "    [3,  4,   5,   6]\n",
        "], dtype=float)\n",
        "\n",
        "try:\n",
        "    inv_4x4 = matrix_inverse_via_rref(mat_4x4)\n",
        "    print(\"3)Inverse:\\n\", np.round(inv_4x4, 2))\n",
        "    product_4x4 = np.dot(mat_4x4, inv_4x4)\n",
        "    print(\"Check A * A^-1 (should be close to identity):\\n\", np.round(product_4x4, 2))\n",
        "except ValueError as e:\n",
        "    print(\"Error:\", e)\n",
        "print(\"\\n-----------------------------------------------------\")"
      ]
    },
    {
      "cell_type": "markdown",
      "metadata": {
        "id": "TCSUt4ckd3sJ"
      },
      "source": [
        "## Hill-Cipher-Like Encryption:\n",
        "Next, incorporate your matrix-inversion function into a Hill-cipher-like encryption scheme. In particular, you will encrypt five-letter messages using a matrix-based key, then decrypt by using the inverse of that key matrix. Complete any remaining parts of the code, and test your results."
      ]
    },
    {
      "cell_type": "code",
      "execution_count": 8,
      "metadata": {
        "id": "_YOGomP5dzR0"
      },
      "outputs": [],
      "source": [
        "def modinv(a, m):\n",
        "    \"\"\"\n",
        "    Compute the modular inverse of 'a' under modulus 'm' using the Extended Euclidean Algorithm.\n",
        "    \"\"\"\n",
        "    m0, x0, x1 = m, 0, 1\n",
        "    if m == 1:\n",
        "        return 0\n",
        "\n",
        "    # Complete the loop using these steps exactly:\n",
        "    #       1) Compute q = a // m   (integer division)\n",
        "    #       2) Compute remainder = a % m\n",
        "    #       3) Update a = m\n",
        "    #       4) Update m = remainder\n",
        "    #       5) Temporarily store old x0 in a variable (e.g., temp)\n",
        "    #       6) Update x0 = x1 - q * x0\n",
        "    #       7) Update x1 = temp\n",
        "    while a > 1:\n",
        "        q = a // m                        # Step 1\n",
        "        remainder = a % m                 # Step 2\n",
        "        a = m                             # Step 3\n",
        "        m = remainder                     # Step 4\n",
        "        temp = x0                         # Step 5\n",
        "        x0 = x1 - q * x0                  # Step 6\n",
        "        x1 = temp                         # Step 7\n",
        "\n",
        "    # Finally, if x1 is negative, shift it by m0 to ensure it's within [0, m0)\n",
        "    return x1 + m0 if x1 < 0 else x1\n",
        "\n",
        "def matrix_mod_inv(matrix, mod=26):\n",
        "    # Compute the determinant of 'matrix' and round to nearest integer.\n",
        "    det = int(round(np.linalg.det(matrix)))\n",
        "    # Find the modular inverse of det in Z_mod.\n",
        "    det_inv = modinv(det % mod, mod)\n",
        "    if det_inv is None:\n",
        "        raise ValueError(\"Matrix is not invertible under modulo 26\")\n",
        "\n",
        "    # Obtain the standard (float-based) inverse of 'matrix' by using your RREF function.\n",
        "    inverse = matrix_inverse_via_rref(matrix.astype(float))  # completed\n",
        "\n",
        "    # Multiply this float-based inverse by the integer determinant 'det',\n",
        "    #       round the result to correct for floating-point imprecision,\n",
        "    #       and reduce each entry modulo 'mod' to form the adjugate matrix.\n",
        "    adjugate = np.round(inverse * det).astype(int) % mod  # completed\n",
        "\n",
        "    # Multiply the 'adjugate' matrix by 'det_inv' (the determinant's modular inverse),\n",
        "    #       and then reduce the result modulo 'mod' and return it.\n",
        "    return (adjugate * det_inv % mod).astype(int)  # completed\n",
        "\n",
        "def encrypt(message, key_2x2, key_3x3):\n",
        "    message = message.upper()\n",
        "\n",
        "    # Encrypt with 2x2 matrix\n",
        "    key_matrix_2x2 = np.array([ord(key_2x2[i]) % 65 for i in range(4)]).reshape(2, 2)\n",
        "    message_vector_2x2 = np.array([ord(message[i]) % 65 for i in range(2)]).reshape(2, 1)\n",
        "    cipher_vector_2x2 = np.dot(key_matrix_2x2, message_vector_2x2) % 26\n",
        "    cipher_text_2x2 = ''.join(chr(int(c) + 65) for c in cipher_vector_2x2.flatten())\n",
        "\n",
        "    # Encrypt with 3x3 matrix\n",
        "    key_matrix_3x3 = np.array([ord(key_3x3[i]) % 65 for i in range(9)]).reshape(3, 3)\n",
        "    message_vector_3x3 = np.array([ord(message[i + 2]) % 65 for i in range(3)]).reshape(3, 1)\n",
        "    cipher_vector_3x3 = np.dot(key_matrix_3x3, message_vector_3x3) % 26\n",
        "    cipher_text_3x3 = ''.join(chr(int(c) + 65) for c in cipher_vector_3x3.flatten())\n",
        "\n",
        "    cipher_text = cipher_text_2x2 + cipher_text_3x3\n",
        "    print(\"Ciphertext:\", cipher_text)\n",
        "    return cipher_text\n",
        "\n",
        "def decrypt(cipher_text, key_2x2, key_3x3):\n",
        "    cipher_text = cipher_text.upper()\n",
        "\n",
        "    key_matrix_2x2 = np.array([ord(key_2x2[i]) % 65 for i in range(4)]).reshape(2, 2)\n",
        "    key_matrix_inv_2x2 = matrix_mod_inv(key_matrix_2x2, 26)\n",
        "    cipher_vector_2x2 = np.array([ord(cipher_text[i]) % 65 for i in range(2)]).reshape(2, 1)\n",
        "    plain_vector_2x2 = np.dot(key_matrix_inv_2x2, cipher_vector_2x2) % 26\n",
        "    plain_text_2x2 = ''.join(chr(int(c) + 65) for c in plain_vector_2x2.flatten())\n",
        "\n",
        "    key_matrix_3x3 = np.array([ord(key_3x3[i]) % 65 for i in range(9)]).reshape(3, 3)\n",
        "    key_matrix_inv_3x3 = matrix_mod_inv(key_matrix_3x3, 26)\n",
        "    cipher_vector_3x3 = np.array([ord(cipher_text[i + 2]) % 65 for i in range(3)]).reshape(3, 1)\n",
        "    plain_vector_3x3 = np.dot(key_matrix_inv_3x3, cipher_vector_3x3) % 26\n",
        "    plain_text_3x3 = ''.join(chr(int(c) + 65) for c in plain_vector_3x3.flatten())\n",
        "\n",
        "    plain_text = plain_text_2x2 + plain_text_3x3\n",
        "    print(\"Decrypted Text:\", plain_text)\n",
        "    print(\"-\" * 60)\n",
        "    return plain_text"
      ]
    },
    {
      "cell_type": "code",
      "execution_count": 9,
      "metadata": {
        "id": "u2EzN2Y5RZs_"
      },
      "outputs": [
        {
          "name": "stdout",
          "output_type": "stream",
          "text": [
            "Ciphertext: NAAOA\n",
            "Decrypted Text: NASIM\n",
            "------------------------------------------------------------\n",
            "Ciphertext: LDJAR\n",
            "Decrypted Text: ARIAN\n",
            "------------------------------------------------------------\n",
            "Ciphertext: ZQPLB\n",
            "Decrypted Text: RADIN\n",
            "------------------------------------------------------------\n",
            "Ciphertext: EFVNA\n",
            "Decrypted Text: ZZZZZ\n",
            "------------------------------------------------------------\n"
          ]
        }
      ],
      "source": [
        "key_2x2 = \"DTER\"\n",
        "key_3x3 = \"GYBNQKURP\"\n",
        "\n",
        "message = \"NASIM\"\n",
        "enc_message = encrypt(message, key_2x2, key_3x3)\n",
        "dec_message = decrypt(enc_message, key_2x2, key_3x3)\n",
        "\n",
        "message = \"ARIAN\"\n",
        "enc_message = encrypt(message, key_2x2, key_3x3)\n",
        "dec_message = decrypt(enc_message, key_2x2, key_3x3)\n",
        "\n",
        "message = \"RADIN\"\n",
        "enc_message = encrypt(message, key_2x2, key_3x3)\n",
        "dec_message = decrypt(enc_message, key_2x2, key_3x3)\n",
        "\n",
        "message = \"ZZZZZ\"\n",
        "enc_message = encrypt(message, key_2x2, key_3x3)\n",
        "dec_message = decrypt(enc_message, key_2x2, key_3x3)"
      ]
    },
    {
      "cell_type": "markdown",
      "metadata": {},
      "source": [
        "# Determinant via Gaussian Elimination"
      ]
    },
    {
      "cell_type": "markdown",
      "metadata": {},
      "source": [
        "\n",
        "In this problem, you are asked to write a function that computes the determinant of a square matrix using Gaussian elimination with partial pivoting. Rather than using the traditional cofactor expansion, you will convert the matrix into an upper triangular form, then compute the determinant as the product of its diagonal elements, adjusting for any row swaps.\n",
        "\n",
        "## Problem Statement\n",
        "\n",
        "Write a function `compute_determinant_elimination(A)` that takes a square matrix `A` (represented as a NumPy array) and returns its determinant calculated via Gaussian elimination. Remember that each time you swap two rows during the elimination process, the sign of the determinant is flipped. Do **not** use built-in functions such as `numpy.linalg.det`.\n",
        "\n",
        "### Steps to Solve\n",
        "\n",
        "1. **Copy the Matrix:**  \n",
        "   To avoid modifying the original matrix, work on a copy of `A`.\n",
        "\n",
        "2. **Partial Pivoting:**  \n",
        "   For each column, find the pivot (the row with the largest absolute value in the current column starting from the diagonal element) and swap rows if necessary. Count the number of swaps since each swap flips the sign of the determinant.\n",
        "\n",
        "3. **Row Elimination:**  \n",
        "   Use Gaussian elimination to convert the matrix into an upper triangular matrix. This is achieved by eliminating the elements below the pivot in each column.\n",
        "\n",
        "4. **Compute the Determinant:**  \n",
        "   The determinant is the product of the diagonal elements of the upper triangular matrix, multiplied by $$  ((-1)^{\\text{swap count}}). $$\n",
        "\n",
        "### Example\n",
        "\n",
        "Consider the matrix:\n",
        "$$\n",
        "A = \\begin{bmatrix}\n",
        "2 & 1 & 3 \\\\\n",
        "4 & 1 & 6 \\\\\n",
        "-1 & 2 & 1\n",
        "\\end{bmatrix}\n",
        "$$\n",
        "\n",
        "After performing Gaussian elimination with partial pivoting, you will obtain an upper triangular matrix. The determinant is then computed as:\n",
        "$$\n",
        "\\text{det}(A) = (-1)^{\\text{swap count}} \\times \\text{(product of diagonal elements)}\n",
        "$$"
      ]
    },
    {
      "cell_type": "code",
      "execution_count": 10,
      "metadata": {},
      "outputs": [],
      "source": [
        "import numpy as np\n",
        "\n",
        "def partial_pivoting(A, i):\n",
        "    \"\"\"\n",
        "    Implement the partial pivoting procedure.\n",
        "    \n",
        "    Given a matrix A and an index i, find the pivot row in column i (the row \n",
        "    with the largest absolute value from row i downwards) and swap it with row i.\n",
        "    \n",
        "    Parameters:\n",
        "        A (numpy.ndarray): The working matrix.\n",
        "        i (int): The current pivot index.\n",
        "    \n",
        "    Returns:\n",
        "        A (numpy.ndarray): The updated matrix after pivoting.\n",
        "        swap_count (int): The number of swaps performed (0 or 1).\n",
        "    \"\"\"\n",
        "    swap_count = 0\n",
        "    n = A.shape[0]\n",
        "    # Complete the code\n",
        "    pivot_row_index = i\n",
        "\n",
        "    for j in range(i + 1, n):\n",
        "        if abs(A[j, i]) > abs(A[pivot_row_index, i]):\n",
        "            pivot_row_index = j\n",
        "\n",
        "    if pivot_row_index != i:\n",
        "        A[[i, pivot_row_index]] = A[[pivot_row_index, i]]\n",
        "        swap_count = 1\n",
        "\n",
        "    return A, swap_count\n",
        "\n",
        "def gaussian_elimination(A):\n",
        "    \"\"\"\n",
        "    Implement Gaussian elimination with partial pivoting.\n",
        "    \n",
        "    Convert matrix A into an upper triangular matrix using partial pivoting.\n",
        "    For each pivot position, perform partial pivoting, then eliminate the entries\n",
        "    below the pivot.\n",
        "    \n",
        "    Parameters:\n",
        "        A (numpy.ndarray): A square matrix of shape (n, n).\n",
        "    \n",
        "    Returns:\n",
        "        A (numpy.ndarray): The upper triangular matrix after elimination.\n",
        "        total_swaps (int): Total number of row swaps performed.\n",
        "    \"\"\"\n",
        "    n = A.shape[0]\n",
        "    total_swaps = 0\n",
        "    # Complete the code\n",
        "    n = A.shape[0]\n",
        "    total_swaps = 0\n",
        "\n",
        "    for i in range(n):\n",
        "        # Pivot and track swaps\n",
        "        A, swaps = partial_pivoting(A, i)\n",
        "        total_swaps += swaps\n",
        "\n",
        "        pivot = A[i, i]\n",
        "\n",
        "        if np.isclose(pivot, 0):\n",
        "            continue  # Singular pivot; no need to proceed with elimination\n",
        "\n",
        "        for j in range(i + 1, n):\n",
        "            factor = A[j, i] / pivot\n",
        "            A[j, i:] -= factor * A[i, i:]\n",
        "\n",
        "    return A, total_swaps\n",
        "\n",
        "def compute_determinant_elimination(A):\n",
        "    \"\"\"\n",
        "    Compute the determinant of a square matrix A using Gaussian elimination with partial pivoting.\n",
        "    \n",
        "    use the above functions to perform the elimination,\n",
        "    then compute the determinant as the product of the diagonal elements, adjusted for\n",
        "    the number of row swaps.\n",
        "    \n",
        "    Parameters:\n",
        "        A (numpy.ndarray): A square matrix of shape (n, n).\n",
        "        \n",
        "    Returns:\n",
        "        float: The determinant of matrix A.\n",
        "    \"\"\"\n",
        "    # Complete the code\n",
        "    if A.shape[0] != A.shape[1]:\n",
        "        raise ValueError(\"Matrix must be square.\")\n",
        "\n",
        "    if A.size == 0:\n",
        "        return 1.0  # Convention: determinant of empty matrix is 1\n",
        "\n",
        "    A_copy = A.copy().astype(float)\n",
        "    U, total_swaps = gaussian_elimination(A_copy)\n",
        "\n",
        "    diag_product = np.prod(np.diag(U))\n",
        "    det = diag_product if total_swaps % 2 == 0 else -diag_product\n",
        "    return det\n"
      ]
    },
    {
      "cell_type": "code",
      "execution_count": 11,
      "metadata": {},
      "outputs": [
        {
          "name": "stdout",
          "output_type": "stream",
          "text": [
            "Determinant of A1 (3x3): -5.0\n"
          ]
        }
      ],
      "source": [
        "# Example 1: 3x3 Matrix\n",
        "A1 = np.array([[2, 1, 3],\n",
        "               [4, 1, 6],\n",
        "               [-1, 2, 1]])\n",
        "det1 = compute_determinant_elimination(A1)\n",
        "print(\"Determinant of A1 (3x3):\", det1)"
      ]
    },
    {
      "cell_type": "code",
      "execution_count": 12,
      "metadata": {},
      "outputs": [
        {
          "name": "stdout",
          "output_type": "stream",
          "text": [
            "Determinant of A2 (4x4): 72.00000000000001\n"
          ]
        }
      ],
      "source": [
        "# Example 2: 4x4 Matrix\n",
        "A2 = np.array([[1, 2, 3, 4],\n",
        "               [5, 6, 7, 8],\n",
        "               [2, 6, 4, 8],\n",
        "               [3, 1, 1, 2]])\n",
        "det2 = compute_determinant_elimination(A2)\n",
        "print(\"Determinant of A2 (4x4):\", det2)"
      ]
    },
    {
      "cell_type": "code",
      "execution_count": 13,
      "metadata": {},
      "outputs": [
        {
          "name": "stdout",
          "output_type": "stream",
          "text": [
            "Determinant of A3 (2x2): -2.0\n"
          ]
        }
      ],
      "source": [
        "# Example 3: 2x2 Matrix\n",
        "A3 = np.array([[1, 2],\n",
        "               [3, 4]])\n",
        "det3 = compute_determinant_elimination(A3)\n",
        "print(\"Determinant of A3 (2x2):\", det3)"
      ]
    },
    {
      "cell_type": "markdown",
      "metadata": {},
      "source": [
        "# Diagonalization and Matrix Powers\n"
      ]
    },
    {
      "cell_type": "markdown",
      "metadata": {},
      "source": [
        "In this exercise, you will explore the concept of diagonalization for linear transformations and use it to compute high powers of a matrix.\n",
        "\n",
        "## Problem Statement\n",
        "\n",
        "Given a square matrix $A$, your task is to:\n",
        "\n",
        "1. **Check Diagonalizability:**  \n",
        "   Write a function `is_diagonalizable(A)` that determines if $A$ is diagonalizable. A matrix is diagonalizable if it has a full set of linearly independent eigenvectors (i.e., if the matrix formed by the eigenvectors is invertible).\n",
        "\n",
        "2. **Diagonalize the Matrix:**  \n",
        "   If $A$ is diagonalizable, write a function `diagonalize(A)` that computes:\n",
        "   - $P$: A matrix whose columns are the eigenvectors of $A$.\n",
        "   - $D$: A diagonal matrix whose diagonal entries are the corresponding eigenvalues.\n",
        "   - $P^{-1}$: The inverse of $P$.  \n",
        "   Such that:\n",
        "   $$\n",
        "   A = P \\, D \\, P^{-1}.\n",
        "   $$\n",
        "\n",
        "3. **Compute Matrix Powers:**  \n",
        "   Use the diagonalization to compute $A^n$ for any positive integer $n$. Write a function `power_matrix(A, n)` that computes:\n",
        "   $$\n",
        "   A^n = P \\, D^n \\, P^{-1},\n",
        "   $$\n",
        "   where $D^n$ is computed by raising each diagonal element of $D$ to the $n$ th power.\n",
        "\n",
        "\n"
      ]
    },
    {
      "cell_type": "code",
      "execution_count": 14,
      "metadata": {},
      "outputs": [],
      "source": [
        "import numpy as np\n",
        "\n",
        "def is_diagonalizable(A):\n",
        "    \"\"\"\n",
        "    Determine if the square matrix A is diagonalizable.\n",
        "    \n",
        "    Parameters:\n",
        "        A (numpy.ndarray): A square matrix of shape (n, n).\n",
        "    \n",
        "    Returns:\n",
        "        bool: True if A is diagonalizable, False otherwise.\n",
        "    \"\"\"\n",
        "    # Complete the code\n",
        "    if A.ndim != 2 or A.shape[0] != A.shape[1]:\n",
        "        raise ValueError(\"Input must be a square matrix.\")\n",
        "    \n",
        "    try:\n",
        "        _, P = np.linalg.eig(A)\n",
        "    except np.linalg.LinAlgError:\n",
        "        return False\n",
        "\n",
        "    return np.abs(np.linalg.det(P)) > 1e-10\n",
        "\n",
        "def diagonalize(A):\n",
        "    \"\"\"\n",
        "    Diagonalize the matrix A.\n",
        "    \n",
        "    If A is diagonalizable, return matrices P, D, and P_inv such that A = P D P_inv.\n",
        "    \n",
        "    Parameters:\n",
        "        A (numpy.ndarray): A square matrix of shape (n, n).\n",
        "    \n",
        "    Returns:\n",
        "        tuple: (P, D, P_inv)\n",
        "            - P: The matrix of eigenvectors (each column is an eigenvector).\n",
        "            - D: The diagonal matrix of eigenvalues.\n",
        "            - P_inv: The inverse of P.\n",
        "    \"\"\"\n",
        "    # Complete the code\n",
        "    eigenvalues, P = np.linalg.eig(A)\n",
        "    D = np.diag(eigenvalues)\n",
        "    P_inv = np.linalg.inv(P)\n",
        "    return P, D, P_inv\n",
        "\n",
        "def power_matrix(A, n):\n",
        "    \"\"\"\n",
        "    Compute A^n using the diagonalization A = P D P_inv.\n",
        "    \n",
        "    Parameters:\n",
        "        A (numpy.ndarray): A square matrix of shape (n, n).\n",
        "        n (int): The power to which A is to be raised.\n",
        "    \n",
        "    Returns:\n",
        "        numpy.ndarray: The matrix A raised to the power n.\n",
        "        \n",
        "    If A is not diagonalizable, the function should raise an error or return an appropriate message.\n",
        "    \"\"\"\n",
        "    if not is_diagonalizable(A):\n",
        "        raise ValueError(\"The matrix A is not diagonalizable.\")\n",
        "    # Complete the code\n",
        "    P, D, P_inv = diagonalize(A)\n",
        "\n",
        "    # Raise diagonal matrix to the power n\n",
        "    diag_Dn = np.diag(D).astype(np.complex128) ** n\n",
        "    Dn = np.diag(diag_Dn)\n",
        "\n",
        "    A_n = P @ Dn @ P_inv\n",
        "\n",
        "    return np.real(A_n) if not np.iscomplexobj(A) else A_n\n"
      ]
    },
    {
      "cell_type": "code",
      "execution_count": 15,
      "metadata": {},
      "outputs": [
        {
          "name": "stdout",
          "output_type": "stream",
          "text": [
            "Example 1: 2x2 Matrix\n",
            "A1 =\n",
            " [[4 1]\n",
            " [2 3]]\n",
            "Diagonalizable? True\n",
            "P =\n",
            " [[ 0.70710678 -0.4472136 ]\n",
            " [ 0.70710678  0.89442719]]\n",
            "D =\n",
            " [[5. 0.]\n",
            " [0. 2.]]\n",
            "P_inv =\n",
            " [[ 0.94280904  0.47140452]\n",
            " [-0.74535599  0.74535599]]\n",
            "A1^3 =\n",
            " [[86. 39.]\n",
            " [78. 47.]]\n",
            "\n",
            "-------------------\n",
            "\n"
          ]
        }
      ],
      "source": [
        "# Example 1: 2x2 Matrix\n",
        "A1 = np.array([[4, 1],\n",
        "               [2, 3]])\n",
        "print(\"Example 1: 2x2 Matrix\")\n",
        "print(\"A1 =\\n\", A1)\n",
        "print(\"Diagonalizable?\", is_diagonalizable(A1))\n",
        "if is_diagonalizable(A1):\n",
        "    P, D, P_inv = diagonalize(A1)\n",
        "    print(\"P =\\n\", P)\n",
        "    print(\"D =\\n\", D)\n",
        "    print(\"P_inv =\\n\", P_inv)\n",
        "    n = 3\n",
        "    print(f\"A1^{n} =\\n\", power_matrix(A1, n))\n",
        "print(\"\\n-------------------\\n\")"
      ]
    },
    {
      "cell_type": "code",
      "execution_count": 16,
      "metadata": {},
      "outputs": [
        {
          "name": "stdout",
          "output_type": "stream",
          "text": [
            "Example 2: 3x3 Matrix\n",
            "A2 =\n",
            " [[ 5  4  2]\n",
            " [ 0  1 -1]\n",
            " [ 0  0  3]]\n",
            "Diagonalizable? True\n",
            "P =\n",
            " [[ 1.         -0.70710678  0.        ]\n",
            " [ 0.          0.70710678 -0.4472136 ]\n",
            " [ 0.          0.          0.89442719]]\n",
            "D =\n",
            " [[5. 0. 0.]\n",
            " [0. 1. 0.]\n",
            " [0. 0. 3.]]\n",
            "P_inv =\n",
            " [[1.         1.         0.5       ]\n",
            " [0.         1.41421356 0.70710678]\n",
            " [0.         0.         1.11803399]]\n",
            "A2^4 =\n",
            " [[625. 624. 312.]\n",
            " [  0.   1. -40.]\n",
            " [  0.   0.  81.]]\n",
            "\n",
            "-------------------\n",
            "\n"
          ]
        }
      ],
      "source": [
        "# Example 2: 3x3 Matrix\n",
        "A2 = np.array([[5, 4, 2],\n",
        "               [0, 1, -1],\n",
        "               [0, 0, 3]])\n",
        "print(\"Example 2: 3x3 Matrix\")\n",
        "print(\"A2 =\\n\", A2)\n",
        "print(\"Diagonalizable?\", is_diagonalizable(A2))\n",
        "if is_diagonalizable(A2):\n",
        "    P, D, P_inv = diagonalize(A2)\n",
        "    print(\"P =\\n\", P)\n",
        "    print(\"D =\\n\", D)\n",
        "    print(\"P_inv =\\n\", P_inv)\n",
        "    n = 4\n",
        "    print(f\"A2^{n} =\\n\", power_matrix(A2, n))\n",
        "print(\"\\n-------------------\\n\")"
      ]
    },
    {
      "cell_type": "code",
      "execution_count": 17,
      "metadata": {},
      "outputs": [
        {
          "name": "stdout",
          "output_type": "stream",
          "text": [
            "Example 3: 3x3 Matrix\n",
            "A3 =\n",
            " [[2 0 0]\n",
            " [1 3 4]\n",
            " [0 0 3]]\n",
            "Diagonalizable? False\n"
          ]
        }
      ],
      "source": [
        "# Example 3: Another 3x3 Matrix\n",
        "A3 = np.array([[2, 0, 0],\n",
        "               [1, 3, 4],\n",
        "               [0, 0, 3]])\n",
        "print(\"Example 3: 3x3 Matrix\")\n",
        "print(\"A3 =\\n\", A3)\n",
        "print(\"Diagonalizable?\", is_diagonalizable(A3))\n",
        "if is_diagonalizable(A3):\n",
        "    P, D, P_inv = diagonalize(A3)\n",
        "    print(\"P =\\n\", P)\n",
        "    print(\"D =\\n\", D)\n",
        "    print(\"P_inv =\\n\", P_inv)\n",
        "    n = 5\n",
        "    print(f\"A3^{n} =\\n\", power_matrix(A3, n))"
      ]
    },
    {
      "cell_type": "markdown",
      "metadata": {},
      "source": [
        "# Full SVD vs. Randomized SVD"
      ]
    },
    {
      "cell_type": "markdown",
      "metadata": {},
      "source": [
        "## Full SVD\n",
        "\n",
        "For any matrix $ A \\in \\mathbb{R}^{m \\times n} $, the full Singular Value Decomposition (SVD) factorizes it as:\n",
        "\n",
        "$$\n",
        "A = U \\Sigma V^T,\n",
        "$$\n",
        "\n",
        "where:\n",
        "\n",
        "- $ U \\in \\mathbb{R}^{m \\times m} $ is an orthogonal matrix whose columns are the left singular vectors.\n",
        "- $ \\Sigma \\in \\mathbb{R}^{m \\times n} $ is a diagonal matrix containing the singular values $\\sigma_1 \\geq \\sigma_2 \\geq \\cdots \\geq \\sigma_{\\min(m,n)} \\geq 0$.\n",
        "- $ V \\in \\mathbb{R}^{n \\times n} $ is an orthogonal matrix whose columns are the right singular vectors.\n",
        "\n",
        "In many practical applications, we use the **economy SVD** (or reduced SVD), where we keep only the $ r $ nonzero singular values (with $ r $ being the rank of $ A $):\n",
        "\n",
        "$$\n",
        "A = U_r \\Sigma_r V_r^T,\n",
        "$$\n",
        "\n",
        "with $ U_r \\in \\mathbb{R}^{m \\times r} $, $\\Sigma_r \\in \\mathbb{R}^{r \\times r}$, and $ V_r \\in \\mathbb{R}^{n \\times r} $.\n",
        "\n",
        "## Randomized SVD\n",
        "\n",
        "Randomized SVD is an approximate method designed to efficiently compute the dominant $ k $ singular values and corresponding singular vectors when $ k \\ll \\min(m, n) $. The procedure involves:\n",
        "\n",
        "1. **Random Projection:**\n",
        "\n",
        "   Generate a random matrix $ \\Omega \\in \\mathbb{R}^{n \\times k} $ (e.g., with i.i.d. Gaussian entries) and compute the sample matrix:\n",
        "\n",
        "   $$\n",
        "   Y = A \\Omega.\n",
        "   $$\n",
        "\n",
        "2. **Form an Orthonormal Basis:**\n",
        "\n",
        "   Compute the QR decomposition of $ Y $ to obtain an orthonormal matrix $ Q \\in \\mathbb{R}^{m \\times k} $:\n",
        "\n",
        "   $$\n",
        "   Y = Q R.\n",
        "   $$\n",
        "\n",
        "3. **Project and Compute SVD on a Smaller Matrix:**\n",
        "\n",
        "   Project $ A $ onto the subspace spanned by $ Q $:\n",
        "\n",
        "   $$\n",
        "   B = Q^T A.\n",
        "   $$\n",
        "\n",
        "   Then, perform the SVD on the smaller matrix $ B $:\n",
        "\n",
        "   $$\n",
        "   B = \\tilde{U} \\Sigma V^T.\n",
        "   $$\n",
        "\n",
        "4. **Approximate SVD of $ A $:**\n",
        "\n",
        "   The approximate SVD of $ A $ is then given by:\n",
        "\n",
        "   $$\n",
        "   A \\approx Q \\tilde{U} \\Sigma V^T.\n",
        "   $$\n"
      ]
    },
    {
      "cell_type": "code",
      "execution_count": 19,
      "metadata": {},
      "outputs": [],
      "source": [
        "import numpy as np\n",
        "import time\n",
        "from sklearn.utils.extmath import randomized_svd\n",
        "from numpy.linalg import svd, norm"
      ]
    },
    {
      "cell_type": "code",
      "execution_count": 20,
      "metadata": {},
      "outputs": [],
      "source": [
        "# Set matrix dimensions and true rank\n",
        "m, n = 1000, 500         # Dimensions of matrix A\n",
        "r_true = 20              # True underlying rank\n",
        "np.random.seed(42)       # For reproducibility\n",
        "\n",
        "# Generate a low-rank matrix A_lowrank = U_true @ V_true using np.random.randn\n",
        "U_true = np.random.randn(m, r_true)\n",
        "V_true = np.random.randn(r_true, n)\n",
        "A_lowrank = U_true @ V_true\n",
        "\n",
        "# Add small Gaussian noise to simulate real-world data imperfections\n",
        "noise = 0.01 * np.random.randn(m, n)  # small noise scaled by 0.01\n",
        "A = A_lowrank + noise\n",
        "\n",
        "# Set target approximation rank (ideally near the true rank)\n",
        "k = 20"
      ]
    },
    {
      "cell_type": "code",
      "execution_count": 25,
      "metadata": {},
      "outputs": [
        {
          "name": "stdout",
          "output_type": "stream",
          "text": [
            "Full SVD:\n",
            "Time = 1.0311 sec\n",
            "Relative Frobenius error = 0.002186\n"
          ]
        }
      ],
      "source": [
        "# ------------------------------\n",
        "# Full SVD Computation\n",
        "# ------------------------------\n",
        "\n",
        "# Implement full svd using linalg.svd\n",
        "start_time = time.time()\n",
        "U_full, s_full, VT_full = np.linalg.svd(A, full_matrices=False)\n",
        "\n",
        "# Reconstruct A using the top k singular values and corresponding vectors\n",
        "A_approx_full = (U_full[:, :k] * s_full[:k]) @ VT_full[:k, :]\n",
        "time_full = time.time() - start_time\n",
        "error_full = np.linalg.norm(A - A_approx_full, 'fro') / np.linalg.norm(A, 'fro')\n",
        "\n",
        "print(\"Full SVD:\")\n",
        "print(f\"Time = {time_full:.4f} sec\")\n",
        "print(f\"Relative Frobenius error = {error_full:.6f}\")"
      ]
    },
    {
      "cell_type": "code",
      "execution_count": 26,
      "metadata": {},
      "outputs": [
        {
          "name": "stdout",
          "output_type": "stream",
          "text": [
            "\n",
            "Randomized SVD:\n",
            "Time = 0.3316 sec\n",
            "Relative Frobenius error = 0.002186\n"
          ]
        }
      ],
      "source": [
        "# ------------------------------\n",
        "# Randomized SVD Computation\n",
        "# ------------------------------\n",
        "\n",
        "# Implement randomized svd using utils.extmath.randomized_svd\n",
        "start_time = time.time()\n",
        "U_rand, s_rand, VT_rand = randomized_svd(A, n_components=k, n_oversamples=10, n_iter=5, random_state=42)\n",
        "A_approx_rand = (U_rand * s_rand) @ VT_rand\n",
        "time_rand = time.time() - start_time\n",
        "error_rand = np.linalg.norm(A - A_approx_rand, 'fro') / np.linalg.norm(A, 'fro')\n",
        "\n",
        "print(\"\\nRandomized SVD:\")\n",
        "print(f\"Time = {time_rand:.4f} sec\")\n",
        "print(f\"Relative Frobenius error = {error_rand:.6f}\")"
      ]
    },
    {
      "cell_type": "markdown",
      "metadata": {},
      "source": [
        "* Summarize your findings on the trade-offs between computational speed and reconstruction accuracy when using Full SVD versus Randomized SVD on large, low-rank matrices.\n",
        "\n",
        "Randomized SVD provides an excellent trade-off for large, low-rank matrices — achieving near-full SVD accuracy with much faster computation and lower resource use, making it ideal for big data and time-sensitive tasks. Full SVD remains the gold standard when maximum precision is critical and computational cost is less of a concern."
      ]
    },
    {
      "cell_type": "markdown",
      "metadata": {},
      "source": [
        "# Collaborative Filtering with Iterative SVD Imputation"
      ]
    },
    {
      "cell_type": "markdown",
      "metadata": {},
      "source": [
        "\n",
        "## Introduction\n",
        "\n",
        "Collaborative filtering is a popular technique in recommender systems that predicts a user's interest in items based on the preferences of similar users. A common challenge in collaborative filtering is dealing with missing data in the user-item interaction matrix. Iterative Singular Value Decomposition (SVD) imputation is an effective method to address this issue by approximating the missing values through matrix factorization.\n",
        "\n",
        "## Mathematical Explanation\n",
        "\n",
        "Given a user-item rating matrix $ R $ with dimensions $ m \\times n $, where $ m $ is the number of users and $ n $ is the number of items, the goal is to predict the missing entries in $ R $. SVD factorizes $ R $ into three matrices:\n",
        "\n",
        "$$ R = U \\Sigma V^T $$\n",
        "\n",
        "- $ U $ is an $ m \\times k $ orthogonal matrix representing user features.\n",
        "- $ \\Sigma $ is a $ k \\times k $ diagonal matrix with singular values.\n",
        "- $ V $ is an $ n \\times k $ orthogonal matrix representing item features.\n",
        "\n",
        "Here, $ k $ is the rank of the decomposition, typically much smaller than $ m $ or $ n $, capturing the latent factors in the data."
      ]
    },
    {
      "cell_type": "code",
      "execution_count": 33,
      "metadata": {},
      "outputs": [],
      "source": [
        "import numpy as np\n",
        "import matplotlib.pyplot as plt\n",
        "from scipy.linalg import svd, norm\n",
        "\n",
        "# Simulate a user-item rating matrix with underlying low-rank structure\n",
        "num_users = 100\n",
        "num_items = 50\n",
        "latent_dim = 5  # underlying latent factors\n",
        "\n",
        "# Generate true rating matrix from latent factors using random.randn\n",
        "U_latent = np.random.randn(num_users, latent_dim)\n",
        "V_latent = np.random.randn(latent_dim, num_items)\n",
        "R_true = U_latent @ V_latent\n",
        "R_noisy = R_true + 0.1 * np.random.randn(*R_true.shape)\n",
        "\n",
        "# Introduce missing entries (simulate ~30% missing data)\n",
        "mask = np.random.rand(num_users, num_items) > 0.3  # True = observed, False = missing\n",
        "R_missing = R_noisy.copy()\n",
        "R_missing[~mask] = np.nan"
      ]
    },
    {
      "cell_type": "code",
      "execution_count": 45,
      "metadata": {},
      "outputs": [
        {
          "name": "stdout",
          "output_type": "stream",
          "text": [
            "Converged after 21 iterations.\n"
          ]
        }
      ],
      "source": [
        "def iterative_svd_impute(R, rank, tol=1e-4, max_iter=50):\n",
        "    \"\"\"\n",
        "    Iteratively imputes missing values in matrix R using truncated SVD.\n",
        "\n",
        "    Parameters:\n",
        "      R       : Input matrix with np.nan for missing values.\n",
        "      rank    : Target rank for truncated SVD.\n",
        "      tol     : Convergence tolerance.\n",
        "      max_iter: Maximum number of iterations.\n",
        "\n",
        "    Returns:\n",
        "      R_filled: Matrix with imputed values.\n",
        "      errors  : List of reconstruction errors at each iteration.\n",
        "    \"\"\"\n",
        "    R_filled = R.copy()\n",
        "\n",
        "    # Initialize missing entries with column means\n",
        "    col_means = np.nanmean(R, axis=0)\n",
        "    inds = np.where(np.isnan(R_filled))\n",
        "    R_filled[inds] = np.take(col_means, inds[1])\n",
        "    errors = []\n",
        "\n",
        "    for iteration in range(max_iter):\n",
        "        R_prev = R_filled.copy()\n",
        "        U, s, VT = svd(R_filled, full_matrices=False)\n",
        "        # Truncate to desired rank\n",
        "        U_rank = U[:, :rank]\n",
        "        S_rank = np.diag(s[:rank])\n",
        "        VT_rank = VT[:rank, :]\n",
        "        R_approx = U_rank @ S_rank @ VT_rank\n",
        "\n",
        "        # Update only the missing entries with the new approximation\n",
        "        R_filled[~mask] = R_approx[~mask]\n",
        "\n",
        "        # Compute reconstruction error on missing entries\n",
        "        error = norm(R_filled[~mask] - R_true[~mask]) / norm(R_true[~mask]) # percentage of errors\n",
        "        # error = norm(R_filled[~mask] - R_true[~mask]) # count of errors\n",
        "        errors.append(error)\n",
        "\n",
        "        diff = norm(R_filled - R_prev, 'fro') / norm(R_prev, 'fro')\n",
        "        if diff < tol:\n",
        "            print(f\"Converged after {iteration+1} iterations.\")\n",
        "            break\n",
        "\n",
        "    return R_filled, errors\n",
        "\n",
        "# Use the latent dimension as the target rank\n",
        "R_completed, errors = iterative_svd_impute(R_missing, rank=latent_dim)"
      ]
    },
    {
      "cell_type": "code",
      "execution_count": 46,
      "metadata": {},
      "outputs": [
        {
          "data": {
            "image/png": "[encoded data removed]",
            "text/plain": [
              "<Figure size 1000x600 with 1 Axes>"
            ]
          },
          "metadata": {},
          "output_type": "display_data"
        },
        {
          "data": {
            "image/png": "[encoded data removed]",
            "text/plain": [
              "<Figure size 1800x600 with 6 Axes>"
            ]
          },
          "metadata": {},
          "output_type": "display_data"
        }
      ],
      "source": [
        "# Plot reconstruction error over iterations\n",
        "plt.figure(figsize=(10, 6))\n",
        "plt.plot(errors, marker='o', linestyle='-', color='b')\n",
        "plt.xlabel('Iteration')\n",
        "plt.ylabel('Reconstruction Error on Missing Entries')\n",
        "plt.title('Iterative SVD Imputation: Reconstruction Error Over Iterations')\n",
        "plt.grid(True)\n",
        "plt.show()\n",
        "\n",
        "# Visualize a subset of the original, missing, and imputed matrices\n",
        "def plot_matrices(R_true, R_missing, R_imputed, user_indices, item_indices):\n",
        "    fig, axes = plt.subplots(1, 3, figsize=(18, 6), sharey=True)\n",
        "    vmin, vmax = np.nanmin(R_true), np.nanmax(R_true)\n",
        "\n",
        "    matrices = [(R_true, 'Original Matrix (R_true)'),\n",
        "                (R_missing, 'Matrix with Missing Values (R_missing)'),\n",
        "                (R_imputed, 'Imputed Matrix (R_imputed)')]\n",
        "\n",
        "    for ax, (matrix, title) in zip(axes, matrices):\n",
        "        cax = ax.matshow(matrix[np.ix_(user_indices, item_indices)], vmin=vmin, vmax=vmax, cmap='viridis')\n",
        "        ax.set_title(title)\n",
        "        ax.set_xlabel('Items')\n",
        "        ax.set_ylabel('Users')\n",
        "        fig.colorbar(cax, ax=ax)\n",
        "\n",
        "    plt.tight_layout()\n",
        "    plt.show()\n",
        "\n",
        "# Select a subset of users and items to visualize\n",
        "user_indices = np.arange(10)\n",
        "item_indices = np.arange(10)\n",
        "\n",
        "plot_matrices(R_true, R_missing, R_completed, user_indices, item_indices)"
      ]
    }
  ],
  "metadata": {
    "colab": {
      "provenance": []
    },
    "kernelspec": {
      "display_name": "Python 3",
      "name": "python3"
    },
    "language_info": {
      "codemirror_mode": {
        "name": "ipython",
        "version": 3
      },
      "file_extension": ".py",
      "mimetype": "text/x-python",
      "name": "python",
      "nbconvert_exporter": "python",
      "pygments_lexer": "ipython3",
      "version": "3.12.1"
    }
  },
  "nbformat": 4,
  "nbformat_minor": 0
}
